{
  "nbformat": 4,
  "nbformat_minor": 0,
  "metadata": {
    "colab": {
      "provenance": []
    },
    "kernelspec": {
      "name": "python3",
      "display_name": "Python 3"
    },
    "language_info": {
      "name": "python"
    }
  },
  "cells": [
    {
      "cell_type": "code",
      "execution_count": null,
      "metadata": {
        "id": "jm_ZMjXcSNnn"
      },
      "outputs": [],
      "source": [
        "import numpy as np\n",
        "from statistics import mean"
      ]
    },
    {
      "cell_type": "markdown",
      "source": [
        "**FCFS**"
      ],
      "metadata": {
        "id": "qKUFKDrRNS1U"
      }
    },
    {
      "cell_type": "code",
      "source": [
        "n = int(input(\"Enter number of elemets: \"))\n",
        "a=[]\n",
        "b=[]\n",
        "index=[]\n",
        "for i in range(n):\n",
        "    index.append(i+1)\n",
        "    print(i+1,\">>\")\n",
        "    x=int(input(\"Enter the arriving time: \"))\n",
        "    a.append(x)\n",
        "    y=int(input(\"Enter the burst time  : \"))\n",
        "    b.append(y)\n",
        "\n",
        "print(\"index\\tArriving time\\tBurst time\\n \")\n",
        "\n",
        "for i in range(n):\n",
        "   print(index[i] ,'\\t' ,a[i], '\\t\\t', b[i],'\\n')"
      ],
      "metadata": {
        "id": "GowtEIZHSkuG",
        "colab": {
          "base_uri": "https://localhost:8080/"
        },
        "outputId": "ae417b96-70e4-4979-9be4-78096c46f984"
      },
      "execution_count": null,
      "outputs": [
        {
          "output_type": "stream",
          "name": "stdout",
          "text": [
            "Enter number of elemets: 6\n",
            "1 >>\n",
            "Enter the arriving time: 0\n",
            "Enter the burst time  : 9\n",
            "2 >>\n",
            "Enter the arriving time: 1\n",
            "Enter the burst time  : 3\n",
            "3 >>\n",
            "Enter the arriving time: 1\n",
            "Enter the burst time  : 2\n",
            "4 >>\n",
            "Enter the arriving time: 1\n",
            "Enter the burst time  : 4\n",
            "5 >>\n",
            "Enter the arriving time: 2\n",
            "Enter the burst time  : 3\n",
            "6 >>\n",
            "Enter the arriving time: 3\n",
            "Enter the burst time  : 2\n",
            "index\tArriving time\tBurst time\n",
            " \n",
            "1 \t 0 \t\t 9 \n",
            "\n",
            "2 \t 1 \t\t 3 \n",
            "\n",
            "3 \t 1 \t\t 2 \n",
            "\n",
            "4 \t 1 \t\t 4 \n",
            "\n",
            "5 \t 2 \t\t 3 \n",
            "\n",
            "6 \t 3 \t\t 2 \n",
            "\n"
          ]
        }
      ]
    },
    {
      "cell_type": "code",
      "source": [
        "#arranging\n",
        "print(\"after arranging\")\n",
        "for i in range (n):\n",
        "    for j in range(i + 1, n):\n",
        "        if(a[i] > a[j]):\n",
        "            temp = a[i]\n",
        "            a[i] = a[j]\n",
        "            a[j] = temp\n",
        "\n",
        "            temp = b[i]\n",
        "            b[i] = b[j]\n",
        "            b[j] = temp\n",
        "\n",
        "            temp = index[i]\n",
        "            index[i] = index[j]\n",
        "            index[j] = temp\n",
        "\n",
        "print(\"index\\tArriving time\\tBurst time\\n \")\n",
        "for i in range(n):\n",
        "   print(index[i] ,'\\t' ,a[i], '\\t\\t', b[i],'\\n')\n",
        "arr=a\n"
      ],
      "metadata": {
        "id": "xgYvVvIVTLwI",
        "colab": {
          "base_uri": "https://localhost:8080/"
        },
        "outputId": "b2f72f5b-4daa-44d4-f1db-94ff370158e3"
      },
      "execution_count": null,
      "outputs": [
        {
          "output_type": "stream",
          "name": "stdout",
          "text": [
            "after arranging\n",
            "index\tArriving time\tBurst time\n",
            " \n",
            "1 \t 0 \t\t 9 \n",
            "\n",
            "2 \t 1 \t\t 3 \n",
            "\n",
            "3 \t 1 \t\t 2 \n",
            "\n",
            "4 \t 1 \t\t 4 \n",
            "\n",
            "5 \t 2 \t\t 3 \n",
            "\n",
            "6 \t 3 \t\t 2 \n",
            "\n"
          ]
        }
      ]
    },
    {
      "cell_type": "code",
      "source": [
        "ct = [b[0]]\n",
        "tat = [ct[0] - a[0]]\n",
        "wt = [tat[0] - b[0]]\n",
        "\n",
        "for i in range(1, n):\n",
        "    ct.append(b[i] + ct[i-1])\n",
        "    tat.append(ct[i] - a[i])\n",
        "    wt.append(tat[i] - b[i])"
      ],
      "metadata": {
        "id": "nxZm_SmfYS5X"
      },
      "execution_count": null,
      "outputs": []
    },
    {
      "cell_type": "code",
      "source": [
        "print(\"The respective waiting and turnaround time is shown in table :\")\n",
        "print(\"index\\tArriving time\\tBurst time\\tWaiting Time\\tTurnaround Time\")\n",
        "for i in range(n):\n",
        "   print(index[i] ,'\\t' ,arr[i], '\\t\\t', b[i],'\\t\\t',wt[i],'\\t\\t',tat[i],'\\t')\n",
        "print(\"\\n Average waiting time is \",mean(tat) )\n",
        "print(\" Average waiting time is \",mean(wt) )"
      ],
      "metadata": {
        "id": "J27zRcBLndBj",
        "colab": {
          "base_uri": "https://localhost:8080/"
        },
        "outputId": "60637255-cc49-409d-a061-a1188cd33764"
      },
      "execution_count": null,
      "outputs": [
        {
          "output_type": "stream",
          "name": "stdout",
          "text": [
            "The respective waiting and turnaround time is shown in table :\n",
            "index\tArriving time\tBurst time\tWaiting Time\tTurnaround Time\n",
            "1 \t 0 \t\t 9 \t\t 0 \t\t 9 \t\n",
            "2 \t 1 \t\t 3 \t\t 8 \t\t 11 \t\n",
            "3 \t 1 \t\t 2 \t\t 11 \t\t 13 \t\n",
            "4 \t 1 \t\t 4 \t\t 13 \t\t 17 \t\n",
            "5 \t 2 \t\t 3 \t\t 16 \t\t 19 \t\n",
            "6 \t 3 \t\t 2 \t\t 18 \t\t 20 \t\n",
            "\n",
            " Average waiting time is  14.833333333333334\n",
            " Average waiting time is  11\n"
          ]
        }
      ]
    },
    {
      "cell_type": "markdown",
      "source": [
        "\n",
        "\n",
        "**SJF**"
      ],
      "metadata": {
        "id": "2ONZA5-JgGIh"
      }
    },
    {
      "cell_type": "code",
      "source": [
        "n = int(input(\"Enter number of elemets: \"))\n",
        "a=[]\n",
        "b=[]\n",
        "index=[]\n",
        "for i in range(n):\n",
        "    index.append(i+1)\n",
        "    print(i+1,\">>\")\n",
        "    x=int(input(\"Enter the arriving time: \"))\n",
        "    a.append(x)\n",
        "    y=int(input(\"Enter the burst time  : \"))\n",
        "    b.append(y)\n",
        "\n",
        "print(\"index\\tArriving time\\tBurst time\\n \")\n",
        "for i in range(n):\n",
        "   print(index[i] ,'\\t' ,a[i], '\\t\\t', b[i],'\\n')"
      ],
      "metadata": {
        "id": "m1MAnM1QOXqs",
        "colab": {
          "base_uri": "https://localhost:8080/",
          "height": 395
        },
        "outputId": "f3458ac3-38c2-487b-82eb-ecc7efd87969"
      },
      "execution_count": null,
      "outputs": [
        {
          "output_type": "error",
          "ename": "KeyboardInterrupt",
          "evalue": "ignored",
          "traceback": [
            "\u001b[0;31m---------------------------------------------------------------------------\u001b[0m",
            "\u001b[0;31mKeyboardInterrupt\u001b[0m                         Traceback (most recent call last)",
            "\u001b[0;32m<ipython-input-7-afa6ee0a35e9>\u001b[0m in \u001b[0;36m<cell line: 1>\u001b[0;34m()\u001b[0m\n\u001b[0;32m----> 1\u001b[0;31m \u001b[0mn\u001b[0m \u001b[0;34m=\u001b[0m \u001b[0mint\u001b[0m\u001b[0;34m(\u001b[0m\u001b[0minput\u001b[0m\u001b[0;34m(\u001b[0m\u001b[0;34m\"Enter number of elemets: \"\u001b[0m\u001b[0;34m)\u001b[0m\u001b[0;34m)\u001b[0m\u001b[0;34m\u001b[0m\u001b[0;34m\u001b[0m\u001b[0m\n\u001b[0m\u001b[1;32m      2\u001b[0m \u001b[0ma\u001b[0m\u001b[0;34m=\u001b[0m\u001b[0;34m[\u001b[0m\u001b[0;34m]\u001b[0m\u001b[0;34m\u001b[0m\u001b[0;34m\u001b[0m\u001b[0m\n\u001b[1;32m      3\u001b[0m \u001b[0mb\u001b[0m\u001b[0;34m=\u001b[0m\u001b[0;34m[\u001b[0m\u001b[0;34m]\u001b[0m\u001b[0;34m\u001b[0m\u001b[0;34m\u001b[0m\u001b[0m\n\u001b[1;32m      4\u001b[0m \u001b[0mindex\u001b[0m\u001b[0;34m=\u001b[0m\u001b[0;34m[\u001b[0m\u001b[0;34m]\u001b[0m\u001b[0;34m\u001b[0m\u001b[0;34m\u001b[0m\u001b[0m\n\u001b[1;32m      5\u001b[0m \u001b[0;32mfor\u001b[0m \u001b[0mi\u001b[0m \u001b[0;32min\u001b[0m \u001b[0mrange\u001b[0m\u001b[0;34m(\u001b[0m\u001b[0mn\u001b[0m\u001b[0;34m)\u001b[0m\u001b[0;34m:\u001b[0m\u001b[0;34m\u001b[0m\u001b[0;34m\u001b[0m\u001b[0m\n",
            "\u001b[0;32m/usr/local/lib/python3.10/dist-packages/ipykernel/kernelbase.py\u001b[0m in \u001b[0;36mraw_input\u001b[0;34m(self, prompt)\u001b[0m\n\u001b[1;32m    849\u001b[0m                 \u001b[0;34m\"raw_input was called, but this frontend does not support input requests.\"\u001b[0m\u001b[0;34m\u001b[0m\u001b[0;34m\u001b[0m\u001b[0m\n\u001b[1;32m    850\u001b[0m             )\n\u001b[0;32m--> 851\u001b[0;31m         return self._input_request(str(prompt),\n\u001b[0m\u001b[1;32m    852\u001b[0m             \u001b[0mself\u001b[0m\u001b[0;34m.\u001b[0m\u001b[0m_parent_ident\u001b[0m\u001b[0;34m,\u001b[0m\u001b[0;34m\u001b[0m\u001b[0;34m\u001b[0m\u001b[0m\n\u001b[1;32m    853\u001b[0m             \u001b[0mself\u001b[0m\u001b[0;34m.\u001b[0m\u001b[0m_parent_header\u001b[0m\u001b[0;34m,\u001b[0m\u001b[0;34m\u001b[0m\u001b[0;34m\u001b[0m\u001b[0m\n",
            "\u001b[0;32m/usr/local/lib/python3.10/dist-packages/ipykernel/kernelbase.py\u001b[0m in \u001b[0;36m_input_request\u001b[0;34m(self, prompt, ident, parent, password)\u001b[0m\n\u001b[1;32m    893\u001b[0m             \u001b[0;32mexcept\u001b[0m \u001b[0mKeyboardInterrupt\u001b[0m\u001b[0;34m:\u001b[0m\u001b[0;34m\u001b[0m\u001b[0;34m\u001b[0m\u001b[0m\n\u001b[1;32m    894\u001b[0m                 \u001b[0;31m# re-raise KeyboardInterrupt, to truncate traceback\u001b[0m\u001b[0;34m\u001b[0m\u001b[0;34m\u001b[0m\u001b[0m\n\u001b[0;32m--> 895\u001b[0;31m                 \u001b[0;32mraise\u001b[0m \u001b[0mKeyboardInterrupt\u001b[0m\u001b[0;34m(\u001b[0m\u001b[0;34m\"Interrupted by user\"\u001b[0m\u001b[0;34m)\u001b[0m \u001b[0;32mfrom\u001b[0m \u001b[0;32mNone\u001b[0m\u001b[0;34m\u001b[0m\u001b[0;34m\u001b[0m\u001b[0m\n\u001b[0m\u001b[1;32m    896\u001b[0m             \u001b[0;32mexcept\u001b[0m \u001b[0mException\u001b[0m \u001b[0;32mas\u001b[0m \u001b[0me\u001b[0m\u001b[0;34m:\u001b[0m\u001b[0;34m\u001b[0m\u001b[0;34m\u001b[0m\u001b[0m\n\u001b[1;32m    897\u001b[0m                 \u001b[0mself\u001b[0m\u001b[0;34m.\u001b[0m\u001b[0mlog\u001b[0m\u001b[0;34m.\u001b[0m\u001b[0mwarning\u001b[0m\u001b[0;34m(\u001b[0m\u001b[0;34m\"Invalid Message:\"\u001b[0m\u001b[0;34m,\u001b[0m \u001b[0mexc_info\u001b[0m\u001b[0;34m=\u001b[0m\u001b[0;32mTrue\u001b[0m\u001b[0;34m)\u001b[0m\u001b[0;34m\u001b[0m\u001b[0;34m\u001b[0m\u001b[0m\n",
            "\u001b[0;31mKeyboardInterrupt\u001b[0m: Interrupted by user"
          ]
        }
      ]
    },
    {
      "cell_type": "code",
      "source": [
        "8#arranging according to burst time\n",
        "print(\"after arranging\")\n",
        "for i in range (n):\n",
        "    for j in range(i + 1, n):\n",
        "        if(b[i] > b[j]):\n",
        "            temp = a[i]\n",
        "            a[i] = a[j]\n",
        "            a[j] = temp\n",
        "\n",
        "            temp = b[i]\n",
        "            b[i] = b[j]\n",
        "            b[j] = temp\n",
        "\n",
        "            temp = index[i]\n",
        "            index[i] = index[j]\n",
        "            index[j] = temp\n",
        "\n",
        "print(\"index\\tArriving time\\tBurst time\\n \")\n",
        "for i in range(n):\n",
        "   print(index[i] ,'\\t' ,a[i], '\\t\\t', b[i],'\\n')\n",
        "arr=a"
      ],
      "metadata": {
        "id": "s_lms3I_gejA",
        "colab": {
          "base_uri": "https://localhost:8080/",
          "height": 262
        },
        "outputId": "e97abbc9-53ac-423e-e979-b0d3da58fc4b"
      },
      "execution_count": null,
      "outputs": [
        {
          "output_type": "stream",
          "name": "stdout",
          "text": [
            "after arranging\n"
          ]
        },
        {
          "output_type": "error",
          "ename": "TypeError",
          "evalue": "ignored",
          "traceback": [
            "\u001b[0;31m---------------------------------------------------------------------------\u001b[0m",
            "\u001b[0;31mTypeError\u001b[0m                                 Traceback (most recent call last)",
            "\u001b[0;32m<ipython-input-6-bf9634651260>\u001b[0m in \u001b[0;36m<cell line: 3>\u001b[0;34m()\u001b[0m\n\u001b[1;32m      4\u001b[0m     \u001b[0;32mfor\u001b[0m \u001b[0mj\u001b[0m \u001b[0;32min\u001b[0m \u001b[0mrange\u001b[0m\u001b[0;34m(\u001b[0m\u001b[0mi\u001b[0m \u001b[0;34m+\u001b[0m \u001b[0;36m1\u001b[0m\u001b[0;34m,\u001b[0m \u001b[0mn\u001b[0m\u001b[0;34m)\u001b[0m\u001b[0;34m:\u001b[0m\u001b[0;34m\u001b[0m\u001b[0;34m\u001b[0m\u001b[0m\n\u001b[1;32m      5\u001b[0m         \u001b[0;32mif\u001b[0m\u001b[0;34m(\u001b[0m\u001b[0mb\u001b[0m\u001b[0;34m[\u001b[0m\u001b[0mi\u001b[0m\u001b[0;34m]\u001b[0m \u001b[0;34m>\u001b[0m \u001b[0mb\u001b[0m\u001b[0;34m[\u001b[0m\u001b[0mj\u001b[0m\u001b[0;34m]\u001b[0m\u001b[0;34m)\u001b[0m\u001b[0;34m:\u001b[0m\u001b[0;34m\u001b[0m\u001b[0;34m\u001b[0m\u001b[0m\n\u001b[0;32m----> 6\u001b[0;31m             \u001b[0mtemp\u001b[0m \u001b[0;34m=\u001b[0m \u001b[0ma\u001b[0m\u001b[0;34m[\u001b[0m\u001b[0mi\u001b[0m\u001b[0;34m]\u001b[0m\u001b[0;34m\u001b[0m\u001b[0;34m\u001b[0m\u001b[0m\n\u001b[0m\u001b[1;32m      7\u001b[0m             \u001b[0ma\u001b[0m\u001b[0;34m[\u001b[0m\u001b[0mi\u001b[0m\u001b[0;34m]\u001b[0m \u001b[0;34m=\u001b[0m \u001b[0ma\u001b[0m\u001b[0;34m[\u001b[0m\u001b[0mj\u001b[0m\u001b[0;34m]\u001b[0m\u001b[0;34m\u001b[0m\u001b[0;34m\u001b[0m\u001b[0m\n\u001b[1;32m      8\u001b[0m             \u001b[0ma\u001b[0m\u001b[0;34m[\u001b[0m\u001b[0mj\u001b[0m\u001b[0;34m]\u001b[0m \u001b[0;34m=\u001b[0m \u001b[0mtemp\u001b[0m\u001b[0;34m\u001b[0m\u001b[0;34m\u001b[0m\u001b[0m\n",
            "\u001b[0;31mTypeError\u001b[0m: 'int' object is not subscriptable"
          ]
        }
      ]
    },
    {
      "cell_type": "code",
      "source": [
        "#ct\n",
        "ct=[]\n",
        "ct.append(b[0])\n",
        "for i in range(1,n):\n",
        "    x=ct[i-1]+b[i]\n",
        "    ct.append(x)\n",
        "print(ct)\n",
        "#TAT\n",
        "tat=[]\n",
        "sum=0\n",
        "for i in range(n):\n",
        "    a=int(sum+b[i])\n",
        "    tat.append(a)\n",
        "    sum=a\n",
        "print(\"The trunaround time is:\",tat)\n",
        "\n",
        "#WT\n",
        "wt=[0]\n",
        "for i in range(1,n):\n",
        "    a=b[i-1] + wt[i-1]\n",
        "    wt.append(a)\n",
        "print(\"waiting time is\" ,wt)"
      ],
      "metadata": {
        "colab": {
          "base_uri": "https://localhost:8080/"
        },
        "id": "QSjL1kHgicG_",
        "outputId": "6cec3c08-ffe1-4d34-cdc2-5c406bde8e59"
      },
      "execution_count": null,
      "outputs": [
        {
          "output_type": "stream",
          "name": "stdout",
          "text": [
            "[6, 10, 14, 16]\n",
            "The trunaround time is: [6, 10, 14, 16]\n",
            "waiting time is [0, 6, 10, 14]\n"
          ]
        }
      ]
    },
    {
      "cell_type": "code",
      "source": [
        "print(\"The respective waiting and turnaround time is shown in table :\")\n",
        "print(\"index\\tArriving time\\tBurst time\\tWaiting Time\\tTurnaround Time\")\n",
        "for i in range(n):\n",
        "   print(index[i] ,'\\t' ,arr[i], '\\t\\t', b[i],'\\t\\t',wt[i],'\\t\\t',tat[i],'\\t')\n",
        "print(\"average waiting time is \",mean(tat) )\n",
        "print(\"average waiting time is \",mean(wt) )"
      ],
      "metadata": {
        "colab": {
          "base_uri": "https://localhost:8080/"
        },
        "id": "tDWJuvKKjBzm",
        "outputId": "df30b539-8715-4ef3-bf92-04e470b6ac7a"
      },
      "execution_count": null,
      "outputs": [
        {
          "output_type": "stream",
          "name": "stdout",
          "text": [
            "The respective waiting and turnaround time is shown in table :\n",
            "index\tArriving time\tBurst time\tWaiting Time\tTurnaround Time\n",
            "3 \t 6 \t\t 2 \t\t 0 \t\t 2 \t\n",
            "2 \t 3 \t\t 3 \t\t 2 \t\t 5 \t\n",
            "1 \t 1 \t\t 7 \t\t 5 \t\t 12 \t\n",
            "5 \t 9 \t\t 8 \t\t 12 \t\t 20 \t\n",
            "4 \t 7 \t\t 10 \t\t 20 \t\t 30 \t\n",
            "average waiting time is  13.8\n",
            "average waiting time is  7.8\n"
          ]
        }
      ]
    },
    {
      "cell_type": "markdown",
      "source": [
        "**Priority Scheduling**"
      ],
      "metadata": {
        "id": "Qp8WScQdPuXC"
      }
    },
    {
      "cell_type": "code",
      "source": [
        "n = int(input(\"Enter number of elemets: \"))\n",
        "a=[]\n",
        "b=[]\n",
        "index=[]\n",
        "pri=[]\n",
        "for i in range(n):\n",
        "    index.append(i+1)\n",
        "    print(i+1,\">>\")\n",
        "    x=int(input(\"Enter the arriving time: \"))\n",
        "    a.append(x)\n",
        "    y=int(input(\"Enter the burst time  : \"))\n",
        "    b.append(y)\n",
        "    p=int(input(\"Enter the priority : \"))\n",
        "    pri.append(p)"
      ],
      "metadata": {
        "id": "I1uHwlnFj3zD",
        "colab": {
          "base_uri": "https://localhost:8080/"
        },
        "outputId": "4b36a956-9113-443e-9438-9dd26e43cd5d"
      },
      "execution_count": null,
      "outputs": [
        {
          "name": "stdout",
          "output_type": "stream",
          "text": [
            "Enter number of elemets: 4\n",
            "1 >>\n",
            "Enter the arriving time: 0\n",
            "Enter the burst time  : 9\n",
            "Enter the priority : 2\n",
            "2 >>\n",
            "Enter the arriving time: 0\n",
            "Enter the burst time  : 4\n",
            "Enter the priority : 1\n",
            "3 >>\n",
            "Enter the arriving time: 0\n",
            "Enter the burst time  : 3\n",
            "Enter the priority : 4\n",
            "4 >>\n",
            "Enter the arriving time: 0\n",
            "Enter the burst time  : 7\n",
            "Enter the priority : 7\n"
          ]
        }
      ]
    },
    {
      "cell_type": "code",
      "source": [
        "print(\"index\\tArriving time\\tBurst time\\tPriority \")\n",
        "for i in range(n):\n",
        "   print(index[i] ,'\\t' ,a[i], '\\t\\t', b[i],'\\t\\t',pri[i],'\\n')"
      ],
      "metadata": {
        "colab": {
          "base_uri": "https://localhost:8080/"
        },
        "id": "h7MEJLTuRh3Y",
        "outputId": "86c8da61-dab4-4996-cd44-a9823fe5ac5b"
      },
      "execution_count": null,
      "outputs": [
        {
          "output_type": "stream",
          "name": "stdout",
          "text": [
            "index\tArriving time\tBurst time\tPriority \n",
            "1 \t 0 \t\t 9 \t\t 2 \n",
            "\n",
            "2 \t 0 \t\t 4 \t\t 1 \n",
            "\n",
            "3 \t 0 \t\t 3 \t\t 4 \n",
            "\n",
            "4 \t 0 \t\t 7 \t\t 7 \n",
            "\n"
          ]
        }
      ]
    },
    {
      "cell_type": "code",
      "source": [
        "#arranging\n",
        "print(\"after arranging\")\n",
        "for i in range (n):\n",
        "    for j in range(i + 1, n):\n",
        "        if(pri[i] > pri[j]):\n",
        "            temp = pri[i]\n",
        "            pri[i] = pri[j]\n",
        "            pri[j] = temp\n",
        "\n",
        "            temp = a[i]\n",
        "            a[i] = a[j]\n",
        "            a[j] = temp\n",
        "\n",
        "            temp = b[i]\n",
        "            b[i] = b[j]\n",
        "            b[j] = temp\n",
        "\n",
        "            temp = index[i]\n",
        "            index[i] = index[j]\n",
        "            index[j] = temp\n",
        "\n",
        "print(\"index\\tArriving time\\tBurst time\\tPriority \")\n",
        "for i in range(n):\n",
        "   print(index[i] ,'\\t' ,a[i], '\\t\\t', b[i],'\\t\\t',pri[i],'\\n')\n",
        "arr=a\n"
      ],
      "metadata": {
        "colab": {
          "base_uri": "https://localhost:8080/"
        },
        "id": "gzOG89TBQM0I",
        "outputId": "d7cd798d-f493-401b-b9d5-0100447227ad"
      },
      "execution_count": null,
      "outputs": [
        {
          "output_type": "stream",
          "name": "stdout",
          "text": [
            "after arranging\n",
            "index\tArriving time\tBurst time\tPriority \n",
            "2 \t 0 \t\t 4 \t\t 1 \n",
            "\n",
            "1 \t 0 \t\t 9 \t\t 2 \n",
            "\n",
            "3 \t 0 \t\t 3 \t\t 4 \n",
            "\n",
            "4 \t 0 \t\t 7 \t\t 7 \n",
            "\n"
          ]
        }
      ]
    },
    {
      "cell_type": "code",
      "source": [
        "ct = [b[0]]\n",
        "tat = [ct[0] - a[0]]\n",
        "wt = [tat[0] - b[0]]\n",
        "\n",
        "for i in range(1, n):\n",
        "    ct.append(b[i] + ct[i-1])\n",
        "    tat.append(ct[i] - a[i])\n",
        "    wt.append(tat[i] - b[i])"
      ],
      "metadata": {
        "id": "mc86e9mQRQw2"
      },
      "execution_count": null,
      "outputs": []
    },
    {
      "cell_type": "code",
      "source": [
        "print(\"The respective waiting and turnaround time is shown in table :\")\n",
        "print(\"index\\tArriving time\\tBurst time\\tWaiting Time\\tTurnaround Time\\tPriority\")\n",
        "for i in range(n):\n",
        "   print(index[i] ,'\\t' ,arr[i], '\\t\\t', b[i],'\\t\\t',wt[i],'\\t\\t',tat[i],'\\t\\t',pri[i],'\\n')\n",
        "print(\"\\n Average waiting time is \",mean(tat) )\n",
        "print(\" Average waiting time is \",mean(wt) )"
      ],
      "metadata": {
        "colab": {
          "base_uri": "https://localhost:8080/"
        },
        "id": "vPoXr9MySHNm",
        "outputId": "a7947f7c-c20d-4607-d113-c1ed4db403ea"
      },
      "execution_count": null,
      "outputs": [
        {
          "output_type": "stream",
          "name": "stdout",
          "text": [
            "The respective waiting and turnaround time is shown in table :\n",
            "index\tArriving time\tBurst time\tWaiting Time\tTurnaround Time\tPriority\n",
            "2 \t 0 \t\t 4 \t\t 0 \t\t 4 \t\t 1 \n",
            "\n",
            "1 \t 0 \t\t 9 \t\t 4 \t\t 13 \t\t 2 \n",
            "\n",
            "3 \t 0 \t\t 3 \t\t 13 \t\t 16 \t\t 4 \n",
            "\n",
            "4 \t 0 \t\t 7 \t\t 16 \t\t 23 \t\t 7 \n",
            "\n",
            "\n",
            " Average waiting time is  14\n",
            " Average waiting time is  8.25\n"
          ]
        }
      ]
    },
    {
      "cell_type": "code",
      "source": [],
      "metadata": {
        "id": "5RZzjeHs51Cu"
      },
      "execution_count": null,
      "outputs": []
    }
  ]
}