{
  "nbformat": 4,
  "nbformat_minor": 0,
  "metadata": {
    "colab": {
      "provenance": []
    },
    "kernelspec": {
      "name": "python3",
      "display_name": "Python 3"
    },
    "language_info": {
      "name": "python"
    }
  },
  "cells": [
    {
      "cell_type": "code",
      "source": [
        "def twos_comp(bin_x):\n",
        "  fa=''\n",
        "  for i in bin_x:\n",
        "    if(i=='0'):\n",
        "      fa=fa+'1'\n",
        "    else:\n",
        "      fa=fa+'0'\n",
        "  return bin(int(fa,2)+int('1',2)).replace('0b','')\n",
        "\n",
        "def add(x,y,count):\n",
        "  sum=bin(int(x,2)+int(y,2)).replace('0b','')\n",
        "  if(len(sum)<count):\n",
        "    sum='0'*(count-len(sum))+sum\n",
        "  if(len(sum)>count):\n",
        "    sum=sum[(len(sum)-count):]\n",
        "  return sum\n",
        "\n",
        "x=int(input('Enter number 1'))\n",
        "y=int(input('Enter number 2'))\n",
        "if(x>0 and y>0):\n",
        "  count=max(len(bin(x).replace('0b','')),len(bin(y).replace('0b','')))+1\n",
        "elif(x<0 and y<0):\n",
        "  count=max(len(bin(abs(x)).replace('0b','')),len(bin(abs(y)).replace('0b','')))+1\n",
        "elif(x<0 or y<0):\n",
        "  if(x<0):\n",
        "    if(len(bin(y).replace('0b',''))>len(bin(abs(x)).replace('0b',''))):\n",
        "      count=len(bin(y).replace('0b',''))\n",
        "    else:\n",
        "      count=len(bin(abs(x)).replace('0b',''))+1\n",
        "  elif(y<0):\n",
        "    if(len(bin(x).replace('0b',''))>len(bin(abs(y)).replace('0b',''))):\n",
        "      count=len(bin(x).replace('0b',''))\n",
        "    else:\n",
        "      count=len(bin(abs(y)).replace('0b',''))+1\n",
        "temp_x=bin(abs(x)).replace('0b','')\n",
        "temp_y=bin(abs(y)).replace('0b','')\n",
        "if(len(temp_x)<count):\n",
        "  bin_x='0'*(count-len(temp_x))+temp_x\n",
        "if(len(temp_y)<count):\n",
        "  bin_y='0'*(count-len(temp_y))+temp_y\n",
        "if(x<0):\n",
        "  bin_x=twos_comp(bin_x)\n",
        "if(y<0):\n",
        "  bin_y=twos_comp(bin_y)\n",
        "M=bin_x\n",
        "Q=bin_y\n",
        "A='0'*count\n",
        "q1='0'\n",
        "print(A+'  '+Q+'  '+q1)\n",
        "for i in range(count):\n",
        "  if((Q[count-1]+q1)=='01'):\n",
        "    print('Adding A and M')\n",
        "    A=add(A,M,count)\n",
        "    print(A+'  '+Q+'  '+q1)\n",
        "  elif((Q[count-1]+q1)=='10'):\n",
        "    print('Subtracting M from A')\n",
        "    A=add(A,twos_comp(M),count)\n",
        "    print(A+'  '+Q+'  '+q1)\n",
        "  print('Right Shifting')\n",
        "  length=len(A+Q+q1)\n",
        "  if(A[0]=='1'):\n",
        "    temp='1'+bin(int((A+Q+q1),2)>>1).replace('0b','')\n",
        "  else:\n",
        "    temp=bin(int((A+Q+q1),2)>>1).replace('0b','')\n",
        "  if(len(temp)<length):\n",
        "    temp='0'*(length-len(temp))+temp\n",
        "  A=temp[0:count]\n",
        "  Q=temp[count:2*count]\n",
        "  q1=temp[2*count:]\n",
        "  print(A+'  '+Q+'  '+q1)\n",
        "\n",
        "if(x<0 and y<0):\n",
        "  print('Final Answer is:',int(A+Q,2))\n",
        "elif(x<0 or y<0):\n",
        "  print('Final Answer is:',-1*int(twos_comp(A+Q),2))\n",
        "else:\n",
        "  print('Final Answer is:',int((A+Q),2))"
      ],
      "metadata": {
        "colab": {
          "base_uri": "https://localhost:8080/"
        },
        "id": "vqaVHVFwPcG_",
        "outputId": "b02ad614-a1eb-416a-cb54-73ed7e8e8567"
      },
      "execution_count": null,
      "outputs": [
        {
          "output_type": "stream",
          "name": "stdout",
          "text": [
            "Enter number 1-9\n",
            "Enter number 27\n",
            "00000  00111  0\n",
            "Subtracting M from A\n",
            "01001  00111  0\n",
            "Right Shifting\n",
            "00100  10011  1\n",
            "Right Shifting\n",
            "00010  01001  1\n",
            "Right Shifting\n",
            "00001  00100  1\n",
            "Adding A and M\n",
            "11000  00100  1\n",
            "Right Shifting\n",
            "11100  00010  0\n",
            "Right Shifting\n",
            "11110  00001  0\n",
            "Final Answer is: -63\n"
          ]
        }
      ]
    }
  ]
}