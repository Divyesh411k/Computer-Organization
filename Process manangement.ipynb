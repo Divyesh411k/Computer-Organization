{
  "cells": [
    {
      "cell_type": "markdown",
      "metadata": {
        "id": "Ka98AMpWRSWZ"
      },
      "source": [
        "60009210116\n",
        "\n",
        "\n",
        "Divyesh khunt"
      ]
    },
    {
      "cell_type": "markdown",
      "metadata": {
        "id": "Ezh0enfQV8S7"
      },
      "source": [
        "**`ROUND ROBIN`**"
      ]
    },
    {
      "cell_type": "code",
      "execution_count": null,
      "metadata": {
        "id": "OgC1cqCRhfLZ"
      },
      "outputs": [],
      "source": [
        "import numpy as np\n",
        "from statistics import mean"
      ]
    },
    {
      "cell_type": "code",
      "execution_count": null,
      "metadata": {
        "colab": {
          "base_uri": "https://localhost:8080/"
        },
        "id": "5v0QzQ2yRHrC",
        "outputId": "fb6d6774-6110-4341-e2d0-91829d9d9e7f"
      },
      "outputs": [
        {
          "name": "stdout",
          "output_type": "stream",
          "text": [
            "Enter number of elements: 3\n",
            "1 >>\n",
            "Enter the burst time  : 9\n",
            "2 >>\n",
            "Enter the burst time  : 4\n",
            "3 >>\n",
            "Enter the burst time  : 9\n",
            "index\tArriving time\tBurst time\n",
            "\n",
            "1 \t 0 \t\t 9 \n",
            "\n",
            "2 \t 0 \t\t 4 \n",
            "\n",
            "3 \t 0 \t\t 9 \n",
            "\n"
          ]
        }
      ],
      "source": [
        "n = int(input(\"Enter number of elements: \"))\n",
        "a = []\n",
        "bt = []\n",
        "index = []\n",
        "for i in range(n):\n",
        "    index.append(i+1)\n",
        "    print(i+1,\">>\")\n",
        "    a.append(0)\n",
        "    y = int(input(\"Enter the burst time  : \"))\n",
        "    bt.append(y)\n",
        "print(\"index\\tArriving time\\tBurst time\\n\")\n",
        "for i in range(n):\n",
        "   print(index[i] ,'\\t' ,a[i], '\\t\\t', bt[i],'\\n')"
      ]
    },
    {
      "cell_type": "code",
      "execution_count": null,
      "metadata": {
        "colab": {
          "base_uri": "https://localhost:8080/"
        },
        "id": "0vcX1CL9dIA5",
        "outputId": "36586d0f-f523-48b2-c1e6-9133d79dfcb7"
      },
      "outputs": [
        {
          "name": "stdout",
          "output_type": "stream",
          "text": [
            "Enter the time interval: 3\n"
          ]
        }
      ],
      "source": [
        "interval = int(input(\"Enter the time interval: \"))\n",
        "rem_bt = bt.copy()\n",
        "wt = [0]*n\n",
        "tat = [0]*n\n",
        "time = 0\n",
        "q = []\n",
        "\n",
        "while True:\n",
        "  #this loop willl check arrival of process\n",
        "    for i in range(n):\n",
        "        if a[i] <= time and rem_bt[i] > 0 and i not in q:\n",
        "            q.append(i)\n",
        "    if len(q) == 0:\n",
        "        break\n",
        "\n",
        "    for i in q:\n",
        "\n",
        "        if rem_bt[i] > interval:\n",
        "            time += interval\n",
        "            rem_bt[i] -= interval\n",
        "        else:\n",
        "            time += rem_bt[i]\n",
        "            rem_bt[i] = 0\n",
        "\n",
        "        wt[i] = time - a[i] - bt[i]\n",
        "        tat[i] = time - a[i]\n",
        "\n",
        "    q = [i for i in q if rem_bt[i] > 0]"
      ]
    },
    {
      "cell_type": "code",
      "execution_count": null,
      "metadata": {
        "colab": {
          "base_uri": "https://localhost:8080/"
        },
        "id": "IyV4SJpyWDPI",
        "outputId": "1c3f8152-0dc7-46be-ab16-ce733727d56b"
      },
      "outputs": [
        {
          "name": "stdout",
          "output_type": "stream",
          "text": [
            "index\tArriving time\tBurst time\tWaiting time\tTurnaround time\n",
            "\n",
            "1 \t 0 \t\t 9 \t\t 10 \t\t 19 \n",
            "\n",
            "2 \t 0 \t\t 4 \t\t 9 \t\t 13 \n",
            "\n",
            "3 \t 0 \t\t 9 \t\t 13 \t\t 22 \n",
            "\n",
            "Average waiting time:  10.666666666666666\n",
            "Average turnaround time:  18\n"
          ]
        }
      ],
      "source": [
        "\n",
        "print(\"index\\tArriving time\\tBurst time\\tWaiting time\\tTurnaround time\\n\")\n",
        "for i in range(n):\n",
        "   print(index[i] ,'\\t' ,a[i], '\\t\\t', bt[i],'\\t\\t', wt[i],'\\t\\t', tat[i],'\\n')\n",
        "\n",
        "\n",
        "print(\"Average waiting time: \", mean(wt))\n",
        "print(\"Average turnaround time: \", mean(tat))\n"
      ]
    },
    {
      "cell_type": "markdown",
      "metadata": {
        "id": "KTXtfj_1kkA-"
      },
      "source": [
        "****SJF****\n"
      ]
    },
    {
      "cell_type": "code",
      "execution_count": null,
      "metadata": {
        "colab": {
          "base_uri": "https://localhost:8080/"
        },
        "id": "2XdUXraKJ1sr",
        "outputId": "2f5ec811-5f1b-4abb-fc20-d9f92e069e5a"
      },
      "outputs": [
        {
          "name": "stdout",
          "output_type": "stream",
          "text": [
            "Enter number of processes: 6\n",
            "Process 1:\n",
            "Enter burst time: 7\n",
            "Process 2:\n",
            "Enter burst time: 5\n",
            "Process 3:\n",
            "Enter burst time: 3\n",
            "Process 4:\n",
            "Enter burst time: 1\n",
            "Process 5:\n",
            "Enter burst time: 2\n",
            "Process 6:\n",
            "Enter burst time: 1\n",
            "Process\tAT\tBT\n",
            "1\t0\t7\n",
            "2\t0\t5\n",
            "3\t0\t3\n",
            "4\t0\t1\n",
            "5\t0\t2\n",
            "6\t0\t1\n"
          ]
        }
      ],
      "source": [
        "n = int(input(\"Enter number of processes: \"))\n",
        "at = []\n",
        "bt = []\n",
        "for i in range(n):\n",
        "    print(f\"Process {i+1}:\")\n",
        "    at.append(0)\n",
        "    bt.append(int(input(\"Enter burst time: \")))\n",
        "print(\"Process\\tAT\\tBT\")\n",
        "for i in range(n):\n",
        "    print(f\"{i+1}\\t{at[i]}\\t{bt[i]}\")"
      ]
    },
    {
      "cell_type": "code",
      "execution_count": null,
      "metadata": {
        "id": "io-K-jPK15Zl"
      },
      "outputs": [],
      "source": [
        "ct = [0] * n\n",
        "wt = [0] * n\n",
        "tat = [0] * n\n",
        "\n",
        "completed = [False] * n\n",
        "\n",
        "t = 0\n",
        "remaining = [0] * n\n",
        "for i in range(n):\n",
        "    remaining[i] = bt[i]\n",
        "\n",
        "while True:\n",
        "    min_bt = float('inf')\n",
        "    min_i = -1\n",
        "    for i in range(n):\n",
        "        if remaining[i] > 0 and at[i] <= t and remaining[i] < min_bt:\n",
        "            min_bt = remaining[i]\n",
        "            min_i = i\n",
        "\n",
        "\n",
        "    if min_i == -1:\n",
        "        break\n",
        "\n",
        "    remaining[min_i] -= 1\n",
        "\n",
        "    if remaining[min_i] == 0:\n",
        "        completed[min_i] = True\n",
        "        ct[min_i] = t + 1\n",
        "    t += 1\n",
        "\n",
        "    for i in range(n):\n",
        "        if completed[i]:\n",
        "            tat[i] = ct[i] - at[i]\n",
        "            wt[i] = tat[i] - bt[i]"
      ]
    },
    {
      "cell_type": "code",
      "execution_count": null,
      "metadata": {
        "colab": {
          "base_uri": "https://localhost:8080/"
        },
        "id": "fy0_Fvli1-xb",
        "outputId": "9bb99705-54d9-446b-f37f-67e73ecc9bbb"
      },
      "outputs": [
        {
          "name": "stdout",
          "output_type": "stream",
          "text": [
            "Process\tAT\tBT\tCT\tTAT\tWT\n",
            "1\t0\t7\t19\t19\t12\n",
            "2\t0\t5\t12\t12\t7\n",
            "3\t0\t3\t7\t7\t4\n",
            "4\t0\t1\t1\t1\t0\n",
            "5\t0\t2\t4\t4\t2\n",
            "6\t0\t1\t2\t2\t1\n",
            "Average waiting time:  4.333333333333333\n",
            "Average turnaround time:  7.5\n"
          ]
        }
      ],
      "source": [
        "print(\"Process\\tAT\\tBT\\tCT\\tTAT\\tWT\")\n",
        "for i in range(n):\n",
        "    print(f\"{i+1}\\t{at[i]}\\t{bt[i]}\\t{ct[i]}\\t{tat[i]}\\t{wt[i]}\")\n",
        "print(\"Average waiting time: \", mean(wt))\n",
        "print(\"Average turnaround time: \", mean(tat))"
      ]
    },
    {
      "cell_type": "markdown",
      "metadata": {
        "id": "pwB55SJvnofY"
      },
      "source": [
        "**PRIORITY**"
      ]
    },
    {
      "cell_type": "code",
      "execution_count": null,
      "metadata": {
        "colab": {
          "background_save": true,
          "base_uri": "https://localhost:8080/"
        },
        "id": "_BJfCKOeoq81",
        "outputId": "4cbbf9da-14a2-46f0-b8cf-67f0e0a5b9c9"
      },
      "outputs": [
        {
          "name": "stdout",
          "output_type": "stream",
          "text": [
            "Process 1:\n"
          ]
        }
      ],
      "source": [
        "n = int(input(\"Enter number of processes: \"))\n",
        "at = []\n",
        "bt = []\n",
        "priority = []\n",
        "for i in range(n):\n",
        "    print(f\"Process {i+1}:\")\n",
        "    at.append(0)\n",
        "    bt.append(int(input(\"Enter burst time: \")))\n",
        "    priority.append(int(input(\"Enter priority: \")))\n",
        "\n",
        "print(\"index\\tArriving time\\tBurst time\\n\")\n",
        "for i in range(n):\n",
        "   print(index[i] ,'\\t' ,a[i], '\\t\\t', bt[i],'\\n')"
      ]
    },
    {
      "cell_type": "code",
      "execution_count": null,
      "metadata": {
        "id": "N7th4up0AIRH"
      },
      "outputs": [],
      "source": [
        "wt = [0] * n\n",
        "tat = [0] * n\n",
        "avgwt = 0\n",
        "avgtat = 0\n",
        "\n",
        "for i in range(n):\n",
        "    for j in range(i+1, n):\n",
        "        if priority[i] > priority[j]:\n",
        "            priority[i], priority[j] = priority[j], priority[i]\n",
        "            at[i], at[j] = at[j], at[i]\n",
        "            bt[i], bt[j] = bt[j], bt[i]\n",
        "\n",
        "for i in range(1, n):\n",
        "    wt[i] = wt[i-1] + bt[i-1]\n",
        "\n",
        "for i in range(n):\n",
        "    tat[i] = wt[i] + bt[i]"
      ]
    },
    {
      "cell_type": "code",
      "execution_count": null,
      "metadata": {
        "colab": {
          "base_uri": "https://localhost:8080/"
        },
        "id": "kZm1HsfE8nml",
        "outputId": "f47b5585-1e23-4d27-d5d8-4d0a345e2037"
      },
      "outputs": [
        {
          "name": "stdout",
          "output_type": "stream",
          "text": [
            "Process\tBurst Time\tPriority\tWaiting Time\tTurnaround Time\n",
            "1\t\t4\t\t1\t\t0\t\t4\n",
            "2\t\t9\t\t2\t\t4\t\t13\n",
            "3\t\t9\t\t3\t\t13\t\t22\n",
            "Average Waiting Time: 5.666666666666667\n",
            "Average Turnaround Time:  13\n"
          ]
        }
      ],
      "source": [
        "print(\"Process\\tBurst Time\\tPriority\\tWaiting Time\\tTurnaround Time\")\n",
        "for i in range(n):\n",
        "    print(f\"{i+1}\\t\\t{bt[i]}\\t\\t{priority[i]}\\t\\t{wt[i]}\\t\\t{tat[i]}\")\n",
        "print(\"Average Waiting Time:\",mean(wt))\n",
        "print(f\"Average Turnaround Time: \",mean(tat))"
      ]
    },
    {
      "cell_type": "code",
      "execution_count": null,
      "metadata": {
        "id": "Bkmjy6dW--OU"
      },
      "outputs": [],
      "source": []
    }
  ],
  "metadata": {
    "colab": {
      "provenance": []
    },
    "kernelspec": {
      "display_name": "Python 3",
      "name": "python3"
    },
    "language_info": {
      "name": "python"
    }
  },
  "nbformat": 4,
  "nbformat_minor": 0
}