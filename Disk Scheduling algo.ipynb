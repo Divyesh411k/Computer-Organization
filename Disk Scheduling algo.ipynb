{
  "nbformat": 4,
  "nbformat_minor": 0,
  "metadata": {
    "colab": {
      "provenance": []
    },
    "kernelspec": {
      "name": "python3",
      "display_name": "Python 3"
    },
    "language_info": {
      "name": "python"
    }
  },
  "cells": [
    {
      "cell_type": "code",
      "execution_count": null,
      "metadata": {
        "colab": {
          "base_uri": "https://localhost:8080/"
        },
        "id": "O703KCpJG-u_",
        "outputId": "0cbaadc6-d4e5-4f35-a4fc-753b32258f8f"
      },
      "outputs": [
        {
          "name": "stdout",
          "output_type": "stream",
          "text": [
            "Enter no. of requests:7\n",
            "Enter position on cylinder:10\n",
            "Enter position on cylinder:22\n",
            "Enter position on cylinder:20\n",
            "Enter position on cylinder:2\n",
            "Enter position on cylinder:40\n",
            "Enter position on cylinder:6\n",
            "Enter position on cylinder:38\n",
            "Enter the initial position of cyclinder:20\n"
          ]
        }
      ],
      "source": [
        "n=int(input(\"Enter no. of requests:\"))\n",
        "req=[]\n",
        "for i in range(n):\n",
        "     x=int(input(\"Enter position on cylinder:\"))\n",
        "     req.append(x)\n",
        "start=int(input(\"Enter the initial position of cyclinder:\"))"
      ]
    },
    {
      "cell_type": "code",
      "source": [
        "# FCFS\n",
        "seek=0\n",
        "current_position = start\n",
        "for i in range(n):\n",
        "    seek_time = abs(current_position - req[i])\n",
        "    seek += seek_time\n",
        "    current_position = req[i]\n",
        "\n",
        "# Print\n",
        "print(\"Total Head Movements: \",seek)\n",
        "print(\"Average seek time is: \",seek/n)"
      ],
      "metadata": {
        "colab": {
          "base_uri": "https://localhost:8080/"
        },
        "id": "L08FqRMuHrGq",
        "outputId": "6cbc97d0-d6ab-4a2e-b201-af5e7ed265f4"
      },
      "execution_count": null,
      "outputs": [
        {
          "output_type": "stream",
          "name": "stdout",
          "text": [
            "Total Head Movements:  146\n",
            "Average seek time is:  20.857142857142858\n"
          ]
        }
      ]
    },
    {
      "cell_type": "code",
      "source": [
        "# SSTF\n",
        "seek = 0\n",
        "current_position = start\n",
        "visited = [False] * n\n",
        "for i in range(n):\n",
        "    shortest_seek_time = float('inf')\n",
        "    shortest_seek_index = 0\n",
        "    for j in range(n):\n",
        "        if not visited[j]:\n",
        "            seek_time = abs(current_position - req[j])\n",
        "            if seek_time < shortest_seek_time:\n",
        "                shortest_seek_time = seek_time\n",
        "                shortest_seek_index = j\n",
        "\n",
        "    visited[shortest_seek_index] = True\n",
        "    seek += shortest_seek_time\n",
        "    current_position = req[shortest_seek_index]\n",
        "\n",
        "print(\"Total Head Movements: \", seek)\n",
        "print(\"Average seek time is: \",seek/n)"
      ],
      "metadata": {
        "colab": {
          "base_uri": "https://localhost:8080/"
        },
        "id": "1WorITa3LGwi",
        "outputId": "631714f6-81a8-4939-e3ba-f151b6b371f7"
      },
      "execution_count": null,
      "outputs": [
        {
          "output_type": "stream",
          "name": "stdout",
          "text": [
            "Total Head Movements:  60\n",
            "Average seek time is:  8.571428571428571\n"
          ]
        }
      ]
    },
    {
      "cell_type": "code",
      "source": [
        "#scan\n",
        "direction = \"right\"\n",
        "seek = 0\n",
        "current_position = start\n",
        "req.sort()\n",
        "while req:\n",
        "    if direction == \"right\":\n",
        "        pending_req = [r for r in req if r >= current_position]\n",
        "    else:\n",
        "        pending_req = [r for r in req if r <= current_position]\n",
        "\n",
        "    if not pending_req:\n",
        "        direction = \"right\" if direction == \"left\" else \"left\"\n",
        "        continue\n",
        "\n",
        "    if direction == \"right\":\n",
        "        next_req = min(pending_req)\n",
        "    else:\n",
        "        next_req = max(pending_req)\n",
        "\n",
        "    seek += abs(next_req - current_position)\n",
        "    current_position = next_req\n",
        "    req.remove(next_req)\n",
        "\n",
        "print(\"Total Head Movements: \", seek)\n",
        "print(\"Average seek time is: \",seek/n)"
      ],
      "metadata": {
        "colab": {
          "base_uri": "https://localhost:8080/"
        },
        "id": "zbMPBcYKPVJm",
        "outputId": "6f72a07a-597f-448e-bdc5-8c4e79fdc306"
      },
      "execution_count": null,
      "outputs": [
        {
          "output_type": "stream",
          "name": "stdout",
          "text": [
            "Total Head Movements:  58\n",
            "Average seek time is:  8.285714285714286\n"
          ]
        }
      ]
    },
    {
      "cell_type": "code",
      "source": [
        "size = int(input(\"Enter no. of requests: \"))\n",
        "arr = []\n",
        "for i in range(size):\n",
        "    x = int(input(\"Enter position on cylinder: \"))\n",
        "    arr.append(x)\n",
        "head = int(input(\"Enter the initial position of cylinder: \"))\n",
        "disk_size = 200"
      ],
      "metadata": {
        "colab": {
          "base_uri": "https://localhost:8080/"
        },
        "id": "q1IixvDrh9DV",
        "outputId": "57675afc-90a8-43ea-d7a7-408e7947027b"
      },
      "execution_count": null,
      "outputs": [
        {
          "name": "stdout",
          "output_type": "stream",
          "text": [
            "Enter no. of requests: 7\n",
            "Enter position on cylinder: 10\n",
            "Enter position on cylinder: 20\n",
            "Enter position on cylinder: 22\n",
            "Enter position on cylinder: 2\n",
            "Enter position on cylinder: 40\n",
            "Enter position on cylinder: 6\n",
            "Enter position on cylinder: 38\n",
            "Enter the initial position of cylinder: 20\n"
          ]
        }
      ]
    },
    {
      "cell_type": "code",
      "source": [
        "def CSCAN(arr, head):\n",
        "    seek_count = 0\n",
        "    distance = 0\n",
        "    cur_track = 0\n",
        "    left = []\n",
        "    right = []\n",
        "    left.append(0)\n",
        "    right.append(disk_size - 1)\n",
        "\n",
        "    for i in range(size):\n",
        "      if (arr[i] < head):\n",
        "        left.append(arr[i])\n",
        "      if (arr[i] > head):\n",
        "        right.append(arr[i])\n",
        "    left.sort()\n",
        "    right.sort()\n",
        "\n",
        "    for i in range(len(right)):\n",
        "      cur_track = right[i]\n",
        "      distance = abs(cur_track - head)\n",
        "      seek_count += distance\n",
        "      head = cur_track\n",
        "    head = 0\n",
        "    seek_count += (disk_size - 1)\n",
        "\n",
        "    for i in range(len(left)):\n",
        "      cur_track = left[i]\n",
        "      distance = abs(cur_track - head)\n",
        "      seek_count += distance\n",
        "      head = cur_track\n",
        "\n",
        "    print(\"Total number of seek operations =\",seek_count)\n",
        "    print(\"Average seek time\",seek_count/size)\n",
        "CSCAN(arr, head)"
      ],
      "metadata": {
        "colab": {
          "base_uri": "https://localhost:8080/"
        },
        "id": "8qyMkuvmoO3G",
        "outputId": "a5e9cd4d-386b-4287-d376-200e3028e6b9"
      },
      "execution_count": null,
      "outputs": [
        {
          "output_type": "stream",
          "name": "stdout",
          "text": [
            "Total number of seek operations = 388\n",
            "Average seek time 55.42857142857143\n"
          ]
        }
      ]
    },
    {
      "cell_type": "code",
      "source": [
        "#look\n",
        "direction = \"right\"\n",
        "def LOOK(arr, head, direction):\n",
        "\n",
        "\tseek_count = 0\n",
        "\tdistance = 0\n",
        "\tcur_track = 0\n",
        "\tleft = []\n",
        "\tright = []\n",
        "\n",
        "\tfor i in range(size):\n",
        "\t\tif (arr[i] < head):\n",
        "\t\t\tleft.append(arr[i])\n",
        "\t\tif (arr[i] > head):\n",
        "\t\t\tright.append(arr[i])\n",
        "\n",
        "\tleft.sort()\n",
        "\tright.sort()\n",
        "\n",
        "\trun = 2\n",
        "\twhile (run):\n",
        "\t\tif (direction == \"left\"):\n",
        "\t\t\tfor i in range(len(left) - 1, -1, -1):\n",
        "\t\t\t\tcur_track = left[i]\n",
        "\t\t\t\tdistance = abs(cur_track - head)\n",
        "\t\t\t\tseek_count += distance\n",
        "\t\t\t\thead = cur_track\n",
        "\t\t\tdirection = \"right\"\n",
        "\n",
        "\t\telif (direction == \"right\"):\n",
        "\t\t\tfor i in range(len(right)):\n",
        "\t\t\t\tcur_track = right[i]\n",
        "\t\t\t\tdistance = abs(cur_track - head)\n",
        "\t\t\t\tseek_count += distance\n",
        "\t\t\t\thead = cur_track\n",
        "\t\t\tdirection = \"left\"\n",
        "\t\trun -= 1\n",
        "\n",
        "\tprint(\"Total number of seek operations =\", seek_count)\n",
        "\n",
        "LOOK(arr, head, direction)\n"
      ],
      "metadata": {
        "id": "yXfTL781Vmoa",
        "colab": {
          "base_uri": "https://localhost:8080/"
        },
        "outputId": "b2f1170f-fda8-4b8d-a398-cefee645948a"
      },
      "execution_count": null,
      "outputs": [
        {
          "output_type": "stream",
          "name": "stdout",
          "text": [
            "Total number of seek operations = 58\n"
          ]
        }
      ]
    },
    {
      "cell_type": "code",
      "source": [
        "def CLOOK(arr, head):\n",
        "    seek_count = 0\n",
        "    distance = 0\n",
        "    cur_track = 0\n",
        "    left = []\n",
        "    right = []\n",
        "\n",
        "    for i in range(size):\n",
        "      if (arr[i] < head):\n",
        "        left.append(arr[i])\n",
        "      if (arr[i] > head):\n",
        "        right.append(arr[i])\n",
        "    left.sort()\n",
        "    right.sort()\n",
        "\n",
        "    for i in range(len(right)):\n",
        "      cur_track = right[i]\n",
        "      distance = abs(cur_track - head)\n",
        "      seek_count += distance\n",
        "      head = cur_track\n",
        "    seek_count += abs(head - left[0])\n",
        "    head = left[0]\n",
        "    for i in range(len(left)):\n",
        "      cur_track = left[i]\n",
        "      distance = abs(cur_track - head)\n",
        "      seek_count += distance\n",
        "      head = cur_track\n",
        "\n",
        "    print(\"Total number of seek operations =\",\n",
        "      seek_count)\n",
        "\n",
        "CLOOK(arr, head)"
      ],
      "metadata": {
        "colab": {
          "base_uri": "https://localhost:8080/"
        },
        "id": "129yXJysfXai",
        "outputId": "b52f017b-1159-44a5-c0f8-e0b9a1a72a88"
      },
      "execution_count": null,
      "outputs": [
        {
          "output_type": "stream",
          "name": "stdout",
          "text": [
            "Total number of seek operations = 66\n"
          ]
        }
      ]
    },
    {
      "cell_type": "code",
      "source": [],
      "metadata": {
        "id": "v0eHyR0psk48"
      },
      "execution_count": null,
      "outputs": []
    }
  ]
}