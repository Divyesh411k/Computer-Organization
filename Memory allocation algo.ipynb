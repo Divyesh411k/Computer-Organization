{
  "nbformat": 4,
  "nbformat_minor": 0,
  "metadata": {
    "colab": {
      "provenance": []
    },
    "kernelspec": {
      "name": "python3",
      "display_name": "Python 3"
    },
    "language_info": {
      "name": "python"
    }
  },
  "cells": [
    {
      "cell_type": "code",
      "source": [
        "m = int(input(\"Enter number of fragments: \"))\n",
        "blocksize=[]\n",
        "process=[]\n",
        "index=[]\n",
        "for i in range(m):\n",
        "    x=int(input(\"Enter the size of bolck: \"))\n",
        "    blocksize.append(x)\n",
        "\n",
        "n = int(input(\"Enter number of processes: \"))\n",
        "for i in range(n):\n",
        "    y=int(input(\"Enter the size of process : \"))\n",
        "    process.append(y)\n",
        "\n",
        "print(\"Block sizes:\",blocksize)\n",
        "print(\"Process sizes:\",process)"
      ],
      "metadata": {
        "colab": {
          "base_uri": "https://localhost:8080/"
        },
        "id": "riBBh9qa-9Xr",
        "outputId": "74cfc706-59d2-4023-dc51-8653d320bea2"
      },
      "execution_count": null,
      "outputs": [
        {
          "output_type": "stream",
          "name": "stdout",
          "text": [
            "Enter number of fragments: 5\n",
            "Enter the size of bolck: 100\n",
            "Enter the size of bolck: 500\n",
            "Enter the size of bolck: 200\n",
            "Enter the size of bolck: 300\n",
            "Enter the size of bolck: 600\n",
            "Enter number of processes: 4\n",
            "Enter the size of process : 212\n",
            "Enter the size of process : 417\n",
            "Enter the size of process : 112\n",
            "Enter the size of process : 426\n",
            "Block sizes: [100, 500, 200, 300, 600]\n",
            "Process sizes: [212, 417, 112, 426]\n"
          ]
        }
      ]
    },
    {
      "cell_type": "code",
      "source": [
        "def FirstFit(blockSize, blocks, processSize, processes):\n",
        "    allocate = [-1] * processes\n",
        "\n",
        "    for i in range(processes):\n",
        "        for j in range(blocks):\n",
        "            if blockSize[j] >= processSize[i]:\n",
        "\n",
        "                allocate[i] = j\n",
        "\n",
        "\n",
        "                blockSize[j] -= processSize[i]\n",
        "\n",
        "                break\n",
        "\n",
        "    print(\"Process No.\\tProcess Size\\tBlock no.\")\n",
        "    for i in range(processes):\n",
        "        print(f\"{i+1} \\t\\t {processSize[i]} \\t\\t\", end=\"\")\n",
        "        if allocate[i] != -1:\n",
        "            print(allocate[i] + 1)\n",
        "        else:\n",
        "            print(\"Not Allocated\")\n",
        "\n",
        "FirstFit(blocksize,m, process, n)"
      ],
      "metadata": {
        "colab": {
          "base_uri": "https://localhost:8080/"
        },
        "id": "IY8122g9ylOG",
        "outputId": "e7970fde-0cd9-499c-fb65-ae2671b55567"
      },
      "execution_count": null,
      "outputs": [
        {
          "output_type": "stream",
          "name": "stdout",
          "text": [
            "Process No.\tProcess Size\tBlock no.\n",
            "1 \t\t 212 \t\t2\n",
            "2 \t\t 417 \t\t5\n",
            "3 \t\t 112 \t\t2\n",
            "4 \t\t 426 \t\tNot Allocated\n"
          ]
        }
      ]
    },
    {
      "cell_type": "code",
      "source": [
        "m = int(input(\"Enter number of fragments: \"))\n",
        "blocksize=[]\n",
        "process=[]\n",
        "index=[]\n",
        "for i in range(m):\n",
        "    x=int(input(\"Enter the size of bolck: \"))\n",
        "    blocksize.append(x)\n",
        "\n",
        "n = int(input(\"Enter number of processes: \"))\n",
        "for i in range(n):\n",
        "    y=int(input(\"Enter the size of process : \"))\n",
        "    process.append(y)\n",
        "\n",
        "\n",
        "\n",
        "print(\"Block sizes:\",blocksize)\n",
        "print(\"Process sizes:\",process)"
      ],
      "metadata": {
        "colab": {
          "base_uri": "https://localhost:8080/"
        },
        "id": "ESlRhWdk-dlN",
        "outputId": "7bc947bc-25c8-4a8a-9fee-48945241f7c1"
      },
      "execution_count": null,
      "outputs": [
        {
          "output_type": "stream",
          "name": "stdout",
          "text": [
            "Enter number of fragments: 5\n",
            "Enter the size of bolck: 100\n",
            "Enter the size of bolck: 500\n",
            "Enter the size of bolck: 200\n",
            "Enter the size of bolck: 300\n",
            "Enter the size of bolck: 600\n",
            "Enter number of processes: 4\n",
            "Enter the size of process : 212\n",
            "Enter the size of process : 417\n",
            "Enter the size of process : 112\n",
            "Enter the size of process : 426\n",
            "index\tArriving time\tBurst time\n",
            " \n",
            "Block sizes: [100, 500, 200, 300, 600]\n",
            "Process sizes: [212, 417, 112, 426]\n"
          ]
        }
      ]
    },
    {
      "cell_type": "code",
      "source": [
        "def BestFit(blockSize, blocks, processSize, processes):\n",
        "\n",
        "    allocate = [-1] * processes\n",
        "\n",
        "    for i in range(processes):\n",
        "        bestBlockIndex = -1\n",
        "        for j in range(blocks):\n",
        "            if blockSize[j] >= processSize[i]:\n",
        "                if bestBlockIndex == -1 or blockSize[j] < blockSize[bestBlockIndex]:\n",
        "                    bestBlockIndex = j\n",
        "\n",
        "        if bestBlockIndex != -1:\n",
        "            allocate[i] = bestBlockIndex\n",
        "            blockSize[bestBlockIndex] -= processSize[i]\n",
        "\n",
        "    print(\"Process No.\\tProcess Size\\tBlock no.\")\n",
        "    for i in range(processes):\n",
        "        print(f\"{i+1} \\t\\t {processSize[i]} \\t\\t\", end=\"\")\n",
        "        if allocate[i] != -1:\n",
        "            print(allocate[i] + 1)\n",
        "        else:\n",
        "            print(\"Not Allocated\")\n",
        "BestFit(blocksize,m, process, n)"
      ],
      "metadata": {
        "colab": {
          "base_uri": "https://localhost:8080/"
        },
        "id": "p4tD-8bQylG-",
        "outputId": "7fa57979-922c-48dd-8e50-b6ee0420f807"
      },
      "execution_count": null,
      "outputs": [
        {
          "output_type": "stream",
          "name": "stdout",
          "text": [
            "Process No.\tProcess Size\tBlock no.\n",
            "1 \t\t 212 \t\t4\n",
            "2 \t\t 417 \t\t2\n",
            "3 \t\t 112 \t\t3\n",
            "4 \t\t 426 \t\t5\n"
          ]
        }
      ]
    },
    {
      "cell_type": "code",
      "source": [
        "m = int(input(\"Enter number of fragments: \"))\n",
        "blocksize=[]\n",
        "process=[]\n",
        "index=[]\n",
        "for i in range(m):\n",
        "    x=int(input(\"Enter the size of bolck: \"))\n",
        "    blocksize.append(x)\n",
        "\n",
        "n = int(input(\"Enter number of processes: \"))\n",
        "for i in range(n):\n",
        "    y=int(input(\"Enter the size of process : \"))\n",
        "    process.append(y)\n",
        "\n",
        "print(\"index\\tArriving time\\tBurst time\\n \")\n",
        "\n",
        "print(\"Block sizes:\",blocksize)\n",
        "print(\"Process sizes:\",process)"
      ],
      "metadata": {
        "colab": {
          "base_uri": "https://localhost:8080/"
        },
        "id": "d7lBH_s-ylah",
        "outputId": "f995e1ce-868c-4735-946b-e32245ef1aca"
      },
      "execution_count": null,
      "outputs": [
        {
          "output_type": "stream",
          "name": "stdout",
          "text": [
            "Enter number of fragments: 5\n",
            "Enter the size of bolck: 100\n",
            "Enter the size of bolck: 500\n",
            "Enter the size of bolck: 200\n",
            "Enter the size of bolck: 300\n",
            "Enter the size of bolck: 600\n",
            "Enter number of processes: 4\n",
            "Enter the size of process : 212\n",
            "Enter the size of process : 417\n",
            "Enter the size of process : 112\n",
            "Enter the size of process : 426\n",
            "index\tArriving time\tBurst time\n",
            " \n",
            "Block sizes: [100, 500, 200, 300, 600]\n",
            "Process sizes: [212, 417, 112, 426]\n"
          ]
        }
      ]
    },
    {
      "cell_type": "code",
      "source": [
        "def WorstFit(blockSize, blocks, processSize, processes):\n",
        "\n",
        "    allocate = [-1] * processes\n",
        "\n",
        "    for i in range(processes):\n",
        "        worstBlockIndex = -1\n",
        "        for j in range(blocks):\n",
        "            if blockSize[j] >= processSize[i]:\n",
        "                if worstBlockIndex == -1 or blockSize[j] > blockSize[worstBlockIndex]:\n",
        "                    worstBlockIndex = j\n",
        "\n",
        "        if worstBlockIndex != -1:\n",
        "            allocate[i] = worstBlockIndex\n",
        "            blockSize[worstBlockIndex] -= processSize[i]\n",
        "\n",
        "    print(\"Process No.\\tProcess Size\\tBlock no.\")\n",
        "    for i in range(processes):\n",
        "        print(f\"{i+1} \\t\\t {processSize[i]} \\t\\t\", end=\"\")\n",
        "        if allocate[i] != -1:\n",
        "            print(allocate[i] + 1)\n",
        "        else:\n",
        "            print(\"Not Allocated\")\n",
        "WorstFit(blocksize,m, process, n)"
      ],
      "metadata": {
        "colab": {
          "base_uri": "https://localhost:8080/"
        },
        "id": "CPWlLJTpyjw-",
        "outputId": "5f52ca3f-e33d-4ae9-cd90-c7dcfe8d4286"
      },
      "execution_count": null,
      "outputs": [
        {
          "output_type": "stream",
          "name": "stdout",
          "text": [
            "Process No.\tProcess Size\tBlock no.\n",
            "1 \t\t 212 \t\t5\n",
            "2 \t\t 417 \t\t2\n",
            "3 \t\t 112 \t\t5\n",
            "4 \t\t 426 \t\tNot Allocated\n"
          ]
        }
      ]
    },
    {
      "cell_type": "code",
      "source": [],
      "metadata": {
        "id": "r6aQm8gVys0T"
      },
      "execution_count": null,
      "outputs": []
    }
  ]
}